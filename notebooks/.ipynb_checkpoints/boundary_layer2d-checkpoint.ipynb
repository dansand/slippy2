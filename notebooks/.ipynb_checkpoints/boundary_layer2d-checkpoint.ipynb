{
 "cells": [
  {
   "cell_type": "code",
   "execution_count": 49,
   "metadata": {
    "collapsed": true
   },
   "outputs": [],
   "source": [
    "import underworld as uw\n",
    "import math\n",
    "from underworld import function as fn\n",
    "import glucifer\n",
    "import matplotlib.pyplot as pyplot\n",
    "import numpy as np\n",
    "from easydict import EasyDict as edict\n",
    "%matplotlib inline\n"
   ]
  },
  {
   "cell_type": "code",
   "execution_count": 50,
   "metadata": {
    "collapsed": false
   },
   "outputs": [],
   "source": [
    "from slippy2 import boundary_layer2d"
   ]
  },
  {
   "cell_type": "code",
   "execution_count": 51,
   "metadata": {
    "collapsed": true
   },
   "outputs": [],
   "source": [
    "MAXX = 1.\n",
    "MINX = -1.\n",
    "MINY = 0.\n",
    "MAXY = 1.\n",
    "dim = 2          # number of spatial dimensions\n",
    "\n",
    "\n",
    "#MESH STUFF\n",
    "\n",
    "RES = 128\n",
    "Yres = RES\n",
    "if MINX == 0.:\n",
    "    Xres = RES\n",
    "else:\n",
    "    Xres = 2*RES\n",
    "periodic = [True, False]\n",
    "\n",
    "elementType = \"Q1/dQ0\"\n"
   ]
  },
  {
   "cell_type": "code",
   "execution_count": 52,
   "metadata": {
    "collapsed": false
   },
   "outputs": [],
   "source": [
    "mesh = uw.mesh.FeMesh_Cartesian( elementType = elementType,\n",
    "                                 elementRes  = (Xres, Yres), \n",
    "                                 minCoord    = (MINX,MINY), \n",
    "                                 maxCoord=(MAXX,MAXY), periodic=periodic)\n",
    "\n",
    "\n",
    "\n",
    "velocityField       = uw.mesh.MeshVariable( mesh=mesh,         nodeDofCount=dim )\n",
    "pressureField       = uw.mesh.MeshVariable( mesh=mesh.subMesh, nodeDofCount=1 )\n",
    "temperatureField    = uw.mesh.MeshVariable( mesh=mesh,         nodeDofCount=1 )"
   ]
  },
  {
   "cell_type": "code",
   "execution_count": 53,
   "metadata": {
    "collapsed": false
   },
   "outputs": [],
   "source": [
    "#dimensional parameter dictionary\n",
    "dp = edict({'LS':2890.*1e3,\n",
    "           'rho':3300,\n",
    "           'g':9.81, \n",
    "           'eta0':1e23,\n",
    "           'k':10**-6,\n",
    "           'a':1.25*10**-5, \n",
    "           'TS':273.,\n",
    "           'TB':2773.,\n",
    "           'deltaT':2500, \n",
    "           'cohesion':1e7, \n",
    "           'E':240000., \n",
    "           'R':8.314,\n",
    "           'V':6.34*(10**-7),\n",
    "           'StALS': 27.*1e3})\n",
    "\n",
    "MANTLETOCRUST = (27.*1e3)/dp.LS #Crust depth\n",
    "CRUSTTOMANTLE = (300.*1e3)/dp.LS \n",
    "LITHTOMANTLE = (660.*1e3)/dp.LS \n"
   ]
  },
  {
   "cell_type": "code",
   "execution_count": 54,
   "metadata": {
    "collapsed": true
   },
   "outputs": [],
   "source": [
    "subzone = -0.3\n",
    "mor = 0.5\n",
    "vel = 20e3\n",
    "agelim = False\n",
    "thermallimit = False\n",
    "\n",
    "#Slab perturbation paramaters\n",
    "Roc = 450.\n",
    "Crust = 35.\n",
    "theta = 89.\n"
   ]
  },
  {
   "cell_type": "code",
   "execution_count": 55,
   "metadata": {
    "collapsed": false
   },
   "outputs": [],
   "source": [
    "from slippy2 import unit_conversions\n",
    "from slippy2 import boundary_layer2d\n"
   ]
  },
  {
   "cell_type": "code",
   "execution_count": 56,
   "metadata": {
    "collapsed": false
   },
   "outputs": [
    {
     "data": {
      "text/plain": [
       "1e-06"
      ]
     },
     "execution_count": 56,
     "metadata": {},
     "output_type": "execute_result"
    }
   ],
   "source": [
    "dp.k"
   ]
  },
  {
   "cell_type": "code",
   "execution_count": 57,
   "metadata": {
    "collapsed": false
   },
   "outputs": [
    {
     "data": {
      "text/plain": [
       "57.79999999999999"
      ]
     },
     "execution_count": 57,
     "metadata": {},
     "output_type": "execute_result"
    }
   ],
   "source": [
    "lith= boundary_layer2d.LithosphereTemps(mesh, temperatureField, 2890e3, subzone, mor, tint=0.8, vel= 20e3, diffs = 1e-6)\n",
    "\n",
    "\n",
    "age = lith.agefunc(0.1)\n",
    "age"
   ]
  },
  {
   "cell_type": "code",
   "execution_count": 58,
   "metadata": {
    "collapsed": false
   },
   "outputs": [
    {
     "data": {
      "text/plain": [
       "True"
      ]
     },
     "execution_count": 58,
     "metadata": {},
     "output_type": "execute_result"
    }
   ],
   "source": [
    "lith.periodic"
   ]
  },
  {
   "cell_type": "code",
   "execution_count": 59,
   "metadata": {
    "collapsed": false
   },
   "outputs": [
    {
     "name": "stdout",
     "output_type": "stream",
     "text": [
      "('age at subduction zone is:', 173.4)\n",
      "('age in seconds is: ', 1822780799999999.8)\n",
      "('dimesnsionless temp at 66 km depth is :', 0.5805216926908932)\n",
      "('depth of thermal lithosphere is :', 99050.1659661406)\n"
     ]
    }
   ],
   "source": [
    "print(\"age at subduction zone is:\", lith.agefunc(subzone))\n",
    "print(\"age in seconds is: \", unit_conversions.myts(age))\n",
    "print(\"dimesnsionless temp at 66 km depth is :\", lith.tempfunc(age, 66e3))\n",
    "print(\"depth of thermal lithosphere is :\", lith.lithdepthfunc(age))"
   ]
  },
  {
   "cell_type": "code",
   "execution_count": null,
   "metadata": {
    "collapsed": true
   },
   "outputs": [],
   "source": []
  },
  {
   "cell_type": "code",
   "execution_count": 60,
   "metadata": {
    "collapsed": false
   },
   "outputs": [
    {
     "data": {
      "text/html": [
       "<img src='data:image/png;base64,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'>"
      ],
      "text/plain": [
       "<IPython.core.display.HTML object>"
      ]
     },
     "execution_count": 60,
     "metadata": {},
     "output_type": "execute_result"
    }
   ],
   "source": [
    "figTemp= glucifer.Figure()\n",
    "figTemp.append( glucifer.objects.Surface(mesh, temperatureField))\n",
    "figTemp.show()"
   ]
  },
  {
   "cell_type": "code",
   "execution_count": 61,
   "metadata": {
    "collapsed": false
   },
   "outputs": [
    {
     "data": {
      "text/plain": [
       "False"
      ]
     },
     "execution_count": 61,
     "metadata": {},
     "output_type": "execute_result"
    }
   ],
   "source": [
    "thermallimit\n"
   ]
  },
  {
   "cell_type": "code",
   "execution_count": 62,
   "metadata": {
    "collapsed": false
   },
   "outputs": [],
   "source": [
    "fudge = 1.\n",
    "\n",
    "for index, coord in enumerate(mesh.data):\n",
    "    xloc = coord[0]\n",
    "    agema = lith.agefunc(xloc)\n",
    "    if agelim:\n",
    "        agema = min(agelim, agema)\n",
    "    if thermallimit:\n",
    "        if (1.-coord[1]) < (lith.lithdepthfunc(agema)/dp.LS)*thermallimit: #comparison of dimensionless (model) lengths\n",
    "            zloc = ((1.- coord[1])* dp.LS) # dimensional depth kms\n",
    "            t = lith.tempfunc(agema,  zloc)\n",
    "            temperatureField.data[index] = t\n",
    "        else:\n",
    "            temperatureField.data[index] = lith.tint\n",
    "    \n",
    "    else:\n",
    "        zloc = ((1.- coord[1])* dp.LS) # dimensional depth kms\n",
    "        t = lith.tempfunc(agema, zloc)\n",
    "        temperatureField.data[index] = t  "
   ]
  },
  {
   "cell_type": "code",
   "execution_count": 63,
   "metadata": {
    "collapsed": false
   },
   "outputs": [],
   "source": [
    "def inCircleFnGenerator(centre, radius):\n",
    "    coord = fn.input()\n",
    "    offsetFn = coord - centre\n",
    "    return fn.math.dot( offsetFn, offsetFn ) < radius**2\n",
    "\n",
    "#Setup slab perturbation params (mostly dimensionles / model params here)\n",
    "phi = 90. - theta\n",
    "RocM = (Roc/dp.LS)*1e3\n",
    "CrustM = MANTLETOCRUST\n",
    "#slabdepth = lithdepthfunc(agefunc(off, off, vel), dp.k)\n",
    "slabdepthM = lith.lithdepthfunc(lith.agefunc(subzone)) /dp.LS\n",
    "#slabdepthM *= 5.\n",
    "Org = (0.+subzone, 1.-RocM)\n",
    "#Use three circles to define our slab and crust perturbation,  \n",
    "Oc = inCircleFnGenerator(Org , RocM)\n",
    "Oc2 = inCircleFnGenerator(Org , RocM + (20e3/dp.LS)) #a slightly larger circle helps smother the interpolation\n",
    "Ic = inCircleFnGenerator(Org , RocM - slabdepthM)\n",
    "Cc = inCircleFnGenerator(Org , RocM - CrustM)\n",
    "dx = (RocM)/(np.math.tan((np.math.pi/180.)*phi))\n",
    "\n",
    "#Work our which way the slab should face:\n",
    "sense = 'Left'\n",
    "if lith.agefunc(subzone + 0.0001) < lith.agefunc(subzone - 0.0001):\n",
    "    sense = 'Right'\n",
    "\n",
    "#We'll also create a triangle which will truncate the circles defining the slab...\n",
    "if sense == 'Left': \n",
    "    ptx = subzone - dx\n",
    "else:\n",
    "    ptx = subzone + dx\n",
    "\n",
    "coords = ((0.+subzone, 1), (0.+subzone, 1.-RocM), (ptx, 1.))\n",
    "Tri = fn.shape.Polygon(np.array(coords))\n",
    "\n"
   ]
  },
  {
   "cell_type": "code",
   "execution_count": 64,
   "metadata": {
    "collapsed": false
   },
   "outputs": [
    {
     "data": {
      "text/html": [
       "<img src='data:image/png;base64,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'>"
      ],
      "text/plain": [
       "<IPython.core.display.HTML object>"
      ]
     },
     "execution_count": 64,
     "metadata": {},
     "output_type": "execute_result"
    }
   ],
   "source": [
    "figTemp.show()"
   ]
  },
  {
   "cell_type": "code",
   "execution_count": 65,
   "metadata": {
    "collapsed": false
   },
   "outputs": [
    {
     "data": {
      "text/plain": [
       "171559.91995148515"
      ]
     },
     "execution_count": 65,
     "metadata": {},
     "output_type": "execute_result"
    }
   ],
   "source": [
    "slabdepthM*dp.LS"
   ]
  },
  {
   "cell_type": "code",
   "execution_count": 66,
   "metadata": {
    "collapsed": false
   },
   "outputs": [
    {
     "data": {
      "text/plain": [
       "False"
      ]
     },
     "execution_count": 66,
     "metadata": {},
     "output_type": "execute_result"
    }
   ],
   "source": [
    "coord = tuple((subzone, 0.92))\n",
    "Oc.evaluate(tuple(coord)) and Tri.evaluate(tuple(coord)) and not Ic.evaluate(tuple(coord))"
   ]
  },
  {
   "cell_type": "code",
   "execution_count": 67,
   "metadata": {
    "collapsed": false
   },
   "outputs": [
    {
     "data": {
      "text/plain": [
       "1.0"
      ]
     },
     "execution_count": 67,
     "metadata": {},
     "output_type": "execute_result"
    }
   ],
   "source": [
    "fudge"
   ]
  },
  {
   "cell_type": "code",
   "execution_count": 68,
   "metadata": {
    "collapsed": false
   },
   "outputs": [],
   "source": [
    "#Assign temperatures in the perturbation region\n",
    "#sds = []\n",
    "if sense == 'Left': \n",
    "    age = lith.agefunc(subzone + 0.001)\n",
    "else:\n",
    "    age = lith.agefunc(subzone - 0.001)\n",
    "    \n",
    "if agelim:\n",
    "        age = min(agelim, age)\n",
    "\n",
    "for index, coord in enumerate(mesh.data):\n",
    "    #if Oc.evaluate(tuple(coord)) and Tri.evaluate(tuple(coord)) and not Ic.evaluate(tuple(coord)): #in inner circle, not in outer circle\n",
    "    if Oc.evaluate(tuple(coord)) and Tri.evaluate(tuple(coord)): #In the quarter-circle defining the lithosphere\n",
    "\n",
    "        sd = ((RocM - math.sqrt((coord[0] - Org[0])**2 + (coord[1] - Org[1])**2))*dp.LS) #distance from slab edge in m\n",
    "        #print sd\n",
    "        if thermallimit:\n",
    "            if sd < (lith.lithdepthfunc(age))*thermallimit: #comparison of dimensionless (model) lengths\n",
    "                t = lith.tempfunc(age, sd)\n",
    "                temperatureField.data[index] = t\n",
    "        else:\n",
    "            t = lith.tempfunc(age, sd)\n",
    "            temperatureField.data[index] = t\n"
   ]
  },
  {
   "cell_type": "code",
   "execution_count": 70,
   "metadata": {
    "collapsed": false
   },
   "outputs": [
    {
     "data": {
      "text/html": [
       "<img src='data:image/png;base64,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'>"
      ],
      "text/plain": [
       "<IPython.core.display.HTML object>"
      ]
     },
     "execution_count": 70,
     "metadata": {},
     "output_type": "execute_result"
    }
   ],
   "source": [
    "figTemp.show()"
   ]
  },
  {
   "cell_type": "code",
   "execution_count": 43,
   "metadata": {
    "collapsed": false
   },
   "outputs": [],
   "source": [
    "figTemp.show()\n",
    "figTemp.save_database('test.gldb')"
   ]
  },
  {
   "cell_type": "code",
   "execution_count": 71,
   "metadata": {
    "collapsed": false
   },
   "outputs": [
    {
     "data": {
      "text/plain": [
       "2890000.0"
      ]
     },
     "execution_count": 71,
     "metadata": {},
     "output_type": "execute_result"
    }
   ],
   "source": [
    "dp.LS"
   ]
  },
  {
   "cell_type": "code",
   "execution_count": null,
   "metadata": {
    "collapsed": true
   },
   "outputs": [],
   "source": []
  }
 ],
 "metadata": {
  "kernelspec": {
   "display_name": "Python 2",
   "language": "python",
   "name": "python2"
  },
  "language_info": {
   "codemirror_mode": {
    "name": "ipython",
    "version": 2
   },
   "file_extension": ".py",
   "mimetype": "text/x-python",
   "name": "python",
   "nbconvert_exporter": "python",
   "pygments_lexer": "ipython2",
   "version": "2.7.11"
  }
 },
 "nbformat": 4,
 "nbformat_minor": 0
}
